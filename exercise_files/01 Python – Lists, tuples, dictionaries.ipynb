{
 "cells": [
  {
   "cell_type": "markdown",
   "source": [
    "<p style=\"text-align:center;\">\n",
    "<img src=\"https://github.com/digital-futures-academy/DataScienceMasterResources/blob/main/Resources/datascience-notebook-header.png?raw=true\"\n",
    "     alt=\"DigitalFuturesLogo\"\n",
    "     style=\"float: center; margin-right: 10px;\" />\n",
    "</p>\n",
    "\n",
    "# Digital Futures Python Challenges\n",
    "### Data Science Python Fundamentals\n",
    "\n",
    "- Each of these challenges will help you practice and apply your Python Knowledge.     \n",
    "- Section 1: Explains the Challenge. Write your function in this section.\n",
    "- Section 2: Creates Unit-Tests to check code. Just run this section.\n",
    "- Section 3: Runs the Unit-Tests to check the code. Just run this section.\n",
    "- The workbook might contain materials you have not yet come across, or are not comfortable with. If so, you can consult the other workbooks and come back to this.\n"
   ],
   "metadata": {}
  },
  {
   "cell_type": "markdown",
   "source": [
    "# 1: Lists, Tuples & Dictionaries"
   ],
   "metadata": {}
  },
  {
   "cell_type": "markdown",
   "source": [
    "## 1: Lists"
   ],
   "metadata": {}
  },
  {
   "cell_type": "markdown",
   "source": [
    " - Your function take in a list of places\n",
    " - You should sort the list into alphabetical order, then add \"Home\" in first place.\n",
    " - Due to COVID regulations, if the list contains \"Abroad\" it should be deleted"
   ],
   "metadata": {}
  },
  {
   "cell_type": "code",
   "source": [
    "#Def your Code here\n",
    "#You should not rename the function\n",
    "\n",
    "def myListFunc(places):\n",
    "    \n",
    "    \n",
    "    return message"
   ],
   "outputs": [],
   "execution_count": null,
   "metadata": {}
  },
  {
   "cell_type": "markdown",
   "source": [
    "## 2: Tuples"
   ],
   "metadata": {}
  },
  {
   "cell_type": "markdown",
   "source": [
    " - The inuput to your function is two tuples\n",
    " - The function should reverse the first tuple, and append the second tuple without the last number\n",
    " - so (1, 2, 3), (4, 5, 6) should return (3, 2, 1, 4, 5)"
   ],
   "metadata": {}
  },
  {
   "cell_type": "code",
   "source": [
    "#Def your Code here\n",
    "#You should not rename the function\n",
    "\n",
    "def myTupleFunc(t1, t2):\n",
    "    \n",
    "    \n",
    "    return message"
   ],
   "outputs": [],
   "execution_count": null,
   "metadata": {}
  },
  {
   "cell_type": "markdown",
   "source": [
    "## 3: Dictionaries"
   ],
   "metadata": {}
  },
  {
   "cell_type": "markdown",
   "source": [
    " - Students have received marks in their modules.\n",
    " - Your function will take in a dictionary containing a list of modules and marks.\n",
    " \n",
    " - The function should return a message saying - \n",
    " - \"Congratulations, your highest score was [mark] in [module name]\"\n"
   ],
   "metadata": {}
  },
  {
   "cell_type": "code",
   "source": [
    "#Def your Code here\n",
    "#You should not rename the function\n",
    "\n",
    "def myDictFunc(scores):\n",
    "    \n",
    "    \n",
    "    return message"
   ],
   "outputs": [],
   "execution_count": null,
   "metadata": {}
  },
  {
   "cell_type": "markdown",
   "source": [
    "# 2: Test Definition\n",
    "#### Just run this section - no ammendments necessary\n",
    "- Here we define the tests. \n"
   ],
   "metadata": {}
  },
  {
   "cell_type": "code",
   "source": [
    "import unittest\n",
    "\n",
    "class DigitalFuturesUnitTest(unittest.TestCase):\n",
    "    \n",
    "    def test_0_pass(self):\n",
    "        testCalc = myListFunc(['shops', 'uni', 'Abroad', 'Basingstoke'])\n",
    "        self.assertEqual(testCalc, ['Home', 'Basingstoke', 'shops', 'uni'])\n",
    "        \n",
    "    def test_1_pass(self):\n",
    "        testCalc = myListFunc(['Edinburgh', 'Park', 'Beach'])\n",
    "        self.assertEqual(testCalc, ['Home', 'Beach', 'Edinburgh', 'Park'])\n",
    "        \n",
    "    def test_2_pass(self):\n",
    "        testCalc = myTupleFunc((15, 12, 36), (5, 11, 9))\n",
    "        self.assertEqual(testCalc, (36, 12, 15, 5, 11))\n",
    "        \n",
    "    def test_3_pass(self):\n",
    "        testCalc = myDictFunc({\"Phyics\":56, \"Art\":42, \"Data Science\":87, \"Geography\":65})\n",
    "        self.assertEqual(testCalc, \"Congratulations, your highest score was 87 in Data Science\")"
   ],
   "outputs": [],
   "execution_count": null,
   "metadata": {}
  },
  {
   "cell_type": "markdown",
   "source": [
    "# 3: Run The Tests\n",
    "#### Just run this section - no ammendments necessary\n",
    "- This will test your code against the Digital Futures Unit Tests. \n",
    "- If all tests are okay, it will say 'OK'\n",
    "- If any test fails, it will explain which test it was and why it failed"
   ],
   "metadata": {}
  },
  {
   "cell_type": "code",
   "source": [
    "if __name__ == '__main__':\n",
    "    unittest.main(argv=['first-arg-is-ignored'], \n",
    "                  verbosity = 2, exit=False)"
   ],
   "outputs": [],
   "execution_count": null,
   "metadata": {}
  },
  {
   "cell_type": "code",
   "source": [],
   "outputs": [],
   "execution_count": null,
   "metadata": {}
  }
 ],
 "metadata": {
  "kernelspec": {
   "display_name": "Python 3",
   "language": "python",
   "name": "python3"
  },
  "language_info": {
   "codemirror_mode": {
    "name": "ipython",
    "version": 3
   },
   "file_extension": ".py",
   "mimetype": "text/x-python",
   "name": "python",
   "nbconvert_exporter": "python",
   "pygments_lexer": "ipython3",
   "version": "3.8.5"
  },
  "nteract": {
   "version": "0.28.0"
  }
 },
 "nbformat": 4,
 "nbformat_minor": 2
}
