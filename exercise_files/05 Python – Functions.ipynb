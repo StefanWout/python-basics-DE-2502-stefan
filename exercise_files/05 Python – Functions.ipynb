{
 "cells": [
  {
   "cell_type": "markdown",
   "source": [
    "<p style=\"text-align:center;\">\n",
    "<img src=\"https://github.com/digital-futures-academy/DataScienceMasterResources/blob/main/Resources/datascience-notebook-header.png?raw=true\"\n",
    "     alt=\"DigitalFuturesLogo\"\n",
    "     style=\"float: center; margin-right: 10px;\" />\n",
    "</p>\n",
    "# Digital Futures Python Challenges\n",
    "### Data Science Python Fundamentals\n",
    "\n",
    "- Each of these challenges will help you practice and apply your Python Knowledge.     \n",
    "- Section 1: Explains the Challenge. Write your function in this section.\n",
    "- Section 2: Creates Unit-Tests to check code. Just run this section.\n",
    "- Section 3: Runs the Unit-Tests to check the code. Just run this section.\n"
   ],
   "metadata": {}
  },
  {
   "cell_type": "markdown",
   "source": [
    "# 1: Functions - Basic Arguments\n",
    "\n",
    " - Your function should take name arguments and return a string in a specific format\n",
    " - \"My name is (Last name). (First Name) (Last Name).\n",
    " - Example: My name is Bond. James Bond\n",
    " - If no first name or last name is given it should default to first name = James and last name = Bond\n",
    " "
   ],
   "metadata": {}
  },
  {
   "cell_type": "code",
   "source": [
    "#Def your Code here\n",
    "#You should not rename the function\n",
    "def myFuncArgBasic(first_name, last_name):\n",
    "    "
   ],
   "outputs": [],
   "execution_count": null,
   "metadata": {}
  },
  {
   "cell_type": "markdown",
   "source": [
    "# 1.1: Functions - None\n",
    "\n",
    " - Your function should take in a number and return different results depending on some criteria\n",
    " - If the number is a multiple of both 7 and 5 it should return 'Perfect!\n",
    " - If the number is a multiple of 7 it should return 'Nice'\n",
    " - If the number is a multiple of 5 it should return 'Acceptable'\n",
    " - If the number is neither a multiple of 7 or 5 it should return a None value\n",
    " "
   ],
   "metadata": {}
  },
  {
   "cell_type": "code",
   "source": [
    "#Def your Code here\n",
    "#You should not rename the function\n",
    "def myFuncNone(number):\n",
    "    "
   ],
   "outputs": [],
   "execution_count": null,
   "metadata": {}
  },
  {
   "cell_type": "markdown",
   "source": [
    "# 1.2: Functions - Unlimited arguments\n",
    "\n",
    " - Your function should take in an indefinite number of arguments and return their length and summation\n",
    " - It should do so in the format 'I was called with (length) arguments with a sum of (sum).'\n",
    " - Bonus: Use what you learned from error handling so it can take both interger and list arguments\n",
    " - Example: (1,2,[2,6],4) --> 'I was called with 4 arguments with a sum of 15.'\n",
    " "
   ],
   "metadata": {}
  },
  {
   "cell_type": "code",
   "source": [
    "#Def your Code here\n",
    "#You should not rename the function\n",
    "def myFuncArg(numbers):\n",
    "       "
   ],
   "outputs": [],
   "execution_count": null,
   "metadata": {}
  },
  {
   "cell_type": "markdown",
   "source": [
    "# 1.3: Functions - Recursion\n",
    "\n",
    " - Your function should a take positional argument and return the number in that position in the fibonacci sequence\n",
    " - Fibonacci Sequence: 1,1,2,3,5,8,13,21,34,55...\n",
    " - Example: A positional argument of 3 should return 2 - 2 in the 3rd place within the sequence\n",
    " - If a position less than 1 is given it should return None\n",
    " - You must use a recursive function i.e. A function that calls itself\n",
    " - Recursion works by having a base condition that it works towards\n",
    " "
   ],
   "metadata": {}
  },
  {
   "cell_type": "code",
   "source": [
    "#Def your Code here\n",
    "#You should not rename the function\n",
    "def myFuncRecursion(length):\n"
   ],
   "outputs": [],
   "execution_count": null,
   "metadata": {}
  },
  {
   "cell_type": "markdown",
   "source": [
    "# 1.4: Functions - Lambda\n",
    "\n",
    " - Create a one line lambda function within the function below\n",
    " - This lambda function should read in a name and test mark\n",
    " - Marks >= 80 should return 'Well Done (Name).'\n",
    " - Marks >= 60 should return 'Good effort (Name).'\n",
    " - Marks < 60 should return 'Really (Name).'\n",
    " - Note: Lambdas do not accept elif - so have a think about nested conditionals"
   ],
   "metadata": {}
  },
  {
   "cell_type": "code",
   "source": [
    "#Def your Code here\n",
    "#You should not rename the function\n",
    "def myFuncLambda(name,mark):\n",
    "    "
   ],
   "outputs": [],
   "execution_count": null,
   "metadata": {}
  },
  {
   "cell_type": "markdown",
   "source": [
    "# 2: Test Definition\n",
    "#### Just run this section - no ammendments necessary\n",
    "- Here we define the tests. \n"
   ],
   "metadata": {}
  },
  {
   "cell_type": "code",
   "source": [
    "import unittest\n",
    "class DigitalFuturesUnitTest(unittest.TestCase):\n",
    "    \n",
    "    def test_1_pass(self):\n",
    "        testCalc = myFuncArgBasic('John','Cena')\n",
    "        self.assertEqual(testCalc, \"My name is Cena. John Cena.\")\n",
    "        \n",
    "    def test_2_pass(self):\n",
    "        testCalc = myFuncArgBasic('Alex')\n",
    "        self.assertEqual(testCalc, 'My name is Bond. Alex Bond.')\n",
    "        \n",
    "    def test_3_pass(self):\n",
    "        testCalc = myFuncArgBasic()\n",
    "        self.assertEqual(testCalc, 'My name is Bond. James Bond.')\n",
    "\n",
    "    def test_4_pass(self):\n",
    "        testCalc = myFuncNone(35)\n",
    "        self.assertEqual(testCalc, 'Perfect!')\n",
    "        \n",
    "    def test_5_pass(self):\n",
    "        testCalc = myFuncNone(5)\n",
    "        self.assertEqual(testCalc, 'Acceptable')\n",
    "        \n",
    "    def test_6_pass(self):\n",
    "        testCalc = myFuncNone(17)\n",
    "        self.assertEqual(testCalc, None)\n",
    "        \n",
    "    def test_7_pass(self):\n",
    "        testCalc = myFuncRecursion(5)\n",
    "        self.assertEqual(testCalc, 5)\n",
    "        \n",
    "    def test_8_pass(self):\n",
    "        testCalc = myFuncRecursion(10)\n",
    "        self.assertEqual(testCalc, 55)\n",
    "\n",
    "    def test_9_pass(self):\n",
    "        testCalc = myFuncRecursion(0)\n",
    "        self.assertEqual(testCalc, None)\n",
    "        \n",
    "    def test_10_pass(self):\n",
    "        testCalc = myFuncArg(1,2,2,656,4)\n",
    "        self.assertEqual(testCalc, 'I was called with 5 arguments with a sum of 665')\n",
    "        \n",
    "    def test_11_pass(self):\n",
    "        testCalc = myFuncArg(1,2,2,[656,2],4)\n",
    "        self.assertEqual(testCalc, 'I was called with 5 arguments with a sum of 667')\n",
    "        \n",
    "    def test_12_pass(self):\n",
    "        testCalc = myFuncArg(1,[2, 23],2,[656, 23],4)\n",
    "        self.assertEqual(testCalc, 'I was called with 5 arguments with a sum of 711')\n",
    "\n",
    "    def test_13_pass(self):\n",
    "        testCalc = myFuncLambda('Gary',80)\n",
    "        self.assertEqual(testCalc, 'Well Done Gary.')\n",
    "        \n",
    "    def test_14_pass(self):\n",
    "        testCalc = myFuncLambda('Boris',50)\n",
    "        self.assertEqual(testCalc, 'Really Boris.')\n",
    "        \n",
    "    def test_15_pass(self):\n",
    "        testCalc = myFuncLambda('Lydia',79)\n",
    "        self.assertEqual(testCalc, 'Good effort Lydia.')\n"
   ],
   "outputs": [],
   "execution_count": null,
   "metadata": {}
  },
  {
   "cell_type": "markdown",
   "source": [
    "# 3: Run The Tests\n",
    "#### Just run this section - no ammendments necessary\n",
    "- This will test your code against the Digital Futures Unit Tests. \n",
    "- If all tests are okay, it will say 'OK'\n",
    "- If any test fails, it will explain which test it was and why it failed"
   ],
   "metadata": {}
  },
  {
   "cell_type": "code",
   "source": [
    "if __name__ == '__main__':\n",
    "    unittest.main(argv=['first-arg-is-ignored'], \n",
    "                  verbosity = 2, exit=False)"
   ],
   "outputs": [],
   "execution_count": null,
   "metadata": {}
  },
  {
   "cell_type": "code",
   "source": [],
   "outputs": [],
   "execution_count": null,
   "metadata": {}
  }
 ],
 "metadata": {
  "kernelspec": {
   "display_name": "Python 3",
   "language": "python",
   "name": "python3"
  },
  "language_info": {
   "codemirror_mode": {
    "name": "ipython",
    "version": 3
   },
   "file_extension": ".py",
   "mimetype": "text/x-python",
   "name": "python",
   "nbconvert_exporter": "python",
   "pygments_lexer": "ipython3",
   "version": "3.8.5"
  },
  "nteract": {
   "version": "0.28.0"
  }
 },
 "nbformat": 4,
 "nbformat_minor": 4
}
