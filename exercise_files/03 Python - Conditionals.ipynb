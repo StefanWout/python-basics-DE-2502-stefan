{
 "cells": [
  {
   "cell_type": "markdown",
   "source": [
    "<p style=\"text-align:center;\">\n",
    "<img src=\"https://github.com/digital-futures-academy/DataScienceMasterResources/blob/main/Resources/datascience-notebook-header.png?raw=true\"\n",
    "     alt=\"DigitalFuturesLogo\"\n",
    "     style=\"float: center; margin-right: 10px;\" />\n",
    "</p>\n",
    "\n",
    "# Digital Futures Python Challenges\n",
    "### Data Science Python Fundamentals\n",
    "\n",
    "- Each of these challenges will help you practice and apply your Python Knowledge.     \n",
    "- Section 1: Explains the Challenge. Write your function in this section.\n",
    "- Section 2: Creates Unit-Tests to check code. Just run this section.\n",
    "- Section 3: Runs the Unit-Tests to check the code. Just run this section.\n"
   ],
   "metadata": {
    "id": "dCT-s1C_3Wel"
   }
  },
  {
   "cell_type": "markdown",
   "source": [
    "# 1: If, Elif, Else"
   ],
   "metadata": {
    "id": "bs50Stm53Wen"
   }
  },
  {
   "cell_type": "markdown",
   "source": [
    "## 1: Lists"
   ],
   "metadata": {
    "id": "LjKDSz0D3Wen"
   }
  },
  {
   "cell_type": "markdown",
   "source": [
    "The function takes in the hour of the day (0-23)\n",
    "Depending in the hour the function should return a different message \n",
    "- 6-9 inclusive -> \"Good Morning\"\n",
    "- 14-16 inclusive -> \"Good Afternoon\"\n",
    "- 17-20 inclusive -> \"Good Evening\"\n",
    " - Otherwise - > \"Hello\"\n"
   ],
   "metadata": {
    "id": "w3DwNCBK3Wen"
   }
  },
  {
   "cell_type": "code",
   "source": [
    "#Def your Code here\n",
    "#You should not rename the function\n",
    "def myConditionalFunc(time):\n",
    "    \n",
    "    \n",
    "    return message\n",
    "\n"
   ],
   "outputs": [],
   "execution_count": null,
   "metadata": {
    "id": "ZwLbJIaG3Wen"
   }
  },
  {
   "cell_type": "markdown",
   "source": [
    "## 2: And, or, Not"
   ],
   "metadata": {
    "id": "y4PguHUj3Weo"
   }
  },
  {
   "cell_type": "markdown",
   "source": [
    " - For a student to pass their course they need either at least 40% in all modules and an average of 70%, or minimum 30% and an average of 80%.\n",
    " - They also need to have returned all their books to the library.\n",
    " - This function takes in minimum mark, average mark, and a boolean which is True if the student has books borrowed.\n",
    "Return True or False to show whether they can pass."
   ],
   "metadata": {
    "id": "S9BOTd4a3Weo"
   }
  },
  {
   "cell_type": "code",
   "source": [
    "#Def your Code here\n",
    "#You should not rename the function\n",
    "def myBooleanLogicFunc(minim, avg, books_out):\n",
    "    \n",
    "    \n",
    "    return course\n",
    "\n"
   ],
   "outputs": [],
   "execution_count": null,
   "metadata": {
    "id": "9Lk5P--z3Weo"
   }
  },
  {
   "cell_type": "markdown",
   "source": [
    "## 3: Conditional Expressions"
   ],
   "metadata": {
    "id": "164S7qXi3Weo"
   }
  },
  {
   "cell_type": "markdown",
   "source": [
    " - This function should return \"Connected\" if it is passed thestring \"Wifi\" or \"Ethernet\", and \"Problem\" otherwise\n",
    " - Try to write this in one line"
   ],
   "metadata": {
    "id": "h7PPPf7q3Weo"
   }
  },
  {
   "cell_type": "code",
   "source": [
    "#Def your Code here\n",
    "#You should not rename the function\n",
    "def myExpressionFunc(internet):\n",
    "    \n",
    "    \n",
    "    return message"
   ],
   "outputs": [],
   "execution_count": null,
   "metadata": {
    "id": "IdfdOIzg3Weo"
   }
  },
  {
   "cell_type": "markdown",
   "source": [
    "# 2: Test Definition\n",
    "#### Just run this section - no ammendments necessary\n",
    "- Here we define the tests. \n"
   ],
   "metadata": {
    "id": "Q96YtYCP3Wep"
   }
  },
  {
   "cell_type": "code",
   "source": [
    "import unittest\n",
    "class DigitalFuturesUnitTest(unittest.TestCase):\n",
    "    \n",
    "    def test_1_1_pass(self):\n",
    "        testCalc = myConditionalFunc(8)\n",
    "        self.assertEqual(testCalc, \"Good Morning\")\n",
    "    def test_1_2_pass(self):\n",
    "        testCalc = myConditionalFunc(16)\n",
    "        self.assertEqual(testCalc, \"Good Afternoon\")\n",
    "    def test_1_3_pass(self):\n",
    "        testCalc = myConditionalFunc(19)\n",
    "        self.assertEqual(testCalc, \"Good Evening\")\n",
    "    def test_1_4_pass(self):\n",
    "        testCalc = myConditionalFunc(12)\n",
    "        self.assertEqual(testCalc, \"Hello\")\n",
    "        \n",
    "    def test_2_1_pass(self):\n",
    "        testCalc = myBooleanLogicFunc(40, 75, False)\n",
    "        self.assertEqual(testCalc, True)\n",
    "    def test_2_2_pass(self):\n",
    "        testCalc = myBooleanLogicFunc(40, 65, False)\n",
    "        self.assertEqual(testCalc, False)\n",
    "    def test_2_3_pass(self):\n",
    "        testCalc = myBooleanLogicFunc(35, 75, False)\n",
    "        self.assertEqual(testCalc, False)\n",
    "    def test_2_4_pass(self):\n",
    "        testCalc = myBooleanLogicFunc(35, 85, False)\n",
    "        self.assertEqual(testCalc, True)\n",
    "    def test_2_5_pass(self):\n",
    "        testCalc = myBooleanLogicFunc(40, 75, True)\n",
    "        self.assertEqual(testCalc, False)\n",
    "    def test_2_6_pass(self):\n",
    "        testCalc = myBooleanLogicFunc(50, 85, True)\n",
    "        self.assertEqual(testCalc, False)\n",
    "        \n",
    "    def test_3_1_pass(self):\n",
    "        testCalc = myExpressionFunc(\"Wifi\")\n",
    "        self.assertEqual(testCalc, \"Connected\")\n",
    "    def test_3_2_pass(self):\n",
    "        testCalc = myExpressionFunc(\"Ethernet\")\n",
    "        self.assertEqual(testCalc, \"Connected\")\n",
    "    def test_3_3_pass(self):\n",
    "        testCalc = myExpressionFunc(\"Bluetooth\")\n",
    "        self.assertEqual(testCalc, \"Problem\")\n",
    "\n",
    " \n"
   ],
   "outputs": [],
   "execution_count": null,
   "metadata": {
    "id": "MOB2kqLL3Wep"
   }
  },
  {
   "cell_type": "markdown",
   "source": [
    "# 3: Run The Tests\n",
    "#### Just run this section - no ammendments necessary\n",
    "- This will test your code against the Digital Futures Unit Tests. \n",
    "- If all tests are okay, it will say 'OK'\n",
    "- If any test fails, it will explain which test it was and why it failed"
   ],
   "metadata": {
    "id": "3qvtZBaT3Wep"
   }
  },
  {
   "cell_type": "code",
   "source": [
    "if __name__ == '__main__':\n",
    "    unittest.main(argv=['first-arg-is-ignored'], \n",
    "                  verbosity = 2, exit=False)"
   ],
   "outputs": [],
   "execution_count": null,
   "metadata": {
    "id": "GRuXfI-b3Wep",
    "outputId": "e5f243f9-2864-4d22-be78-bd170e922c94"
   }
  },
  {
   "cell_type": "code",
   "source": [],
   "outputs": [],
   "execution_count": null,
   "metadata": {
    "id": "_kR_Dmfe3Weq"
   }
  }
 ],
 "metadata": {
  "kernelspec": {
   "display_name": "Python 3",
   "language": "python",
   "name": "python3"
  },
  "language_info": {
   "codemirror_mode": {
    "name": "ipython",
    "version": 3
   },
   "file_extension": ".py",
   "mimetype": "text/x-python",
   "name": "python",
   "nbconvert_exporter": "python",
   "pygments_lexer": "ipython3",
   "version": "3.8.5"
  },
  "nteract": {
   "version": "0.28.0"
  },
  "colab": {
   "name": "03 Python - Conditionals.ipynb",
   "provenance": [],
   "collapsed_sections": []
  }
 },
 "nbformat": 4,
 "nbformat_minor": 0
}
