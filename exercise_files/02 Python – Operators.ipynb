{
 "cells": [
  {
   "cell_type": "markdown",
   "source": [
    "<p style=\"text-align:center;\">\n",
    "<img src=\"https://github.com/digital-futures-academy/DataScienceMasterResources/blob/main/Resources/datascience-notebook-header.png?raw=true\"\n",
    "     alt=\"DigitalFuturesLogo\"\n",
    "     style=\"float: center; margin-right: 10px;\" />\n",
    "</p>\n",
    "\n",
    "# Digital Futures Python Challenges\n",
    "### Data Science Python Fundamentals\n",
    "\n",
    "- Each of these challenges will help you practice and apply your Python Knowledge.\n",
    "- Each section contains tasks and unit tests to check your work (just need running).\n",
    "- Section 1: Bitwise Operators.\n",
    "- Section 2: Numerical Operators.\n",
    "- Section 3: Relational Operators.\n",
    "- The workbook might contain materials you have not yet come across or are uncomfortable with. If so, you can consult the other workbooks and come back to this.\n"
   ],
   "metadata": {
    "id": "cbjjV9u6ZnWO"
   }
  },
  {
   "cell_type": "markdown",
   "source": [
    "# Bitwise Operations\n",
    "\n",
    "In computing, numbers are stored as their binary representations, and in programming, we can access the fundamental operator that acts on these bits. the main bitwise operations to be aware of are:\n",
    "\n",
    "1.   ~ -- NOT\n",
    "2.   & -- AND\n",
    "3.   ^ -- XOR\n",
    "4.   | -- OR\n",
    "5.   << -- left shift\n",
    "6.   \\>> -- right shift\n",
    "\n",
    "\n",
    "Their behaviours can be found here: [Bit operator truth tables](https://en.wikipedia.org/wiki/Bitwise_operation#Truth_table_for_all_binary_logical_operators)\n",
    "\n",
    "## Task 1 - Power of 2 checker\n",
    "\n",
    "Produce a function that takes an **integer** as an argument and returns **True** if it's a power of 2 and **False** otherwise. This should be done by using these operators and understanding the meaning of binary numbers (base 2).\n",
    "\n",
    "\n",
    "---\n",
    "\n",
    "\n",
    "### Example:\n",
    "```\n",
    ">>> is_power_of_two(4)\n",
    "True\n",
    "\n",
    ">>> is_power_of_two(6)\n",
    "False\n",
    "``` "
   ],
   "metadata": {
    "id": "UVkBjMXxXj7s"
   }
  },
  {
   "cell_type": "markdown",
   "source": [
    "### Hint:\n",
    "This can be done with a loop and shift operations or with just the & operator (this requires understanding of [Two's Compliment](https://www.cs.cornell.edu/~tomf/notes/cps104/twoscomp.html#:~:text=Two's%20complement%20is%20the%20way,add%20one%20to%20the%20result.))"
   ],
   "metadata": {
    "id": "K9_yMtI2ZuEq"
   }
  },
  {
   "cell_type": "code",
   "source": [
    "def is_power_of_two(number):\n",
    "    \n",
    "    #YOUR CODE HERE\n",
    "    \n",
    "    return ans"
   ],
   "outputs": [],
   "execution_count": null,
   "metadata": {
    "id": "FfdRnyaSAAYR"
   }
  },
  {
   "cell_type": "markdown",
   "source": [
    "Great! now check your work :)"
   ],
   "metadata": {
    "id": "SvyboCaIVELS"
   }
  },
  {
   "cell_type": "code",
   "source": [
    "import unittest\n",
    "class DigitalFuturesUnitTest(unittest.TestCase):\n",
    "    \n",
    "    def test_1_pass(self):\n",
    "        self.assertEqual(is_power_of_two(0), False)\n",
    "        \n",
    "    def test_2_pass(self):\n",
    "        self.assertEqual(is_power_of_two(4), True)\n",
    "        \n",
    "    def test_3_pass(self):\n",
    "        with self.assertRaises(TypeError):\n",
    "            is_power_of_two(3.2)\n",
    "\n",
    "    def test_4_pass(self):\n",
    "        self.assertEqual(is_power_of_two(38), False)\n",
    "\n",
    "    def test_5_pass(self):\n",
    "        self.assertEqual(is_power_of_two(258), False)\n",
    "\n",
    "    def test_6_pass(self):\n",
    "        self.assertEqual(is_power_of_two(64), True)\n",
    "\n",
    "    def test_7_pass(self):\n",
    "        self.assertEqual(is_power_of_two(268435456), True)\n",
    "\n",
    "    def test_8_pass(self):\n",
    "        with self.assertRaises(Exception):\n",
    "            is_power_of_two('16')"
   ],
   "outputs": [],
   "execution_count": null,
   "metadata": {
    "id": "kvraGvl9AAVI"
   }
  },
  {
   "cell_type": "code",
   "source": [
    "if __name__ == '__main__':\n",
    "    unittest.main(argv=[''], verbosity = 2, exit=False)"
   ],
   "outputs": [],
   "execution_count": null,
   "metadata": {
    "colab": {
     "base_uri": "https://localhost:8080/"
    },
    "id": "GXpQF6gRAAJe",
    "outputId": "377efd19-f4cf-46de-8a34-cbb8bb1ee696"
   }
  },
  {
   "cell_type": "markdown",
   "source": [
    "# Numerical Operators\n",
    "\n",
    "Numerical operators handle all the most common mathematical number operations that we come across:\n",
    "\n",
    "\n",
    "\n",
    "1.   <b>+</b> -- <b>Addition</b>\n",
    "2.   <b>-</b> -- <b>Subtraction</b>\n",
    "1.   <b>/</b> -- <b>Standard Division</b>\n",
    "2.   <b>//</b> -- <b>Integer Division</b> (nearest integer rounded down)\n",
    "2.   <b>%</b> -- <b>Modulus Division</b> (Remainder after division)\n",
    "1.   <b>**</b> -- <b>Power</b> (Exponent)"
   ],
   "metadata": {
    "id": "cZZzV4R5bSWk"
   }
  },
  {
   "cell_type": "markdown",
   "source": [
    "## Task 1 - Quadratic Equation Root Finder\n",
    "\n",
    "Write a function that will **return the two roots** of a quadratic equation of the form \\\\(ax^{2} + bx + c = 0 \\\\).\n",
    "\n",
    "The function will take the three coefficients a, b, c as arguments and return the two roots to **2 decimal places** as a **tuple**. \n",
    "\n",
    "The quadratic equation is **known to have real roots**, and you are encouraged to think about variable usage to minimise repeated calculations.\n",
    "\n",
    "\n",
    "---\n",
    "\n",
    "\n",
    "### Example\n",
    "```\n",
    ">>> root_finder(1, 2, -3)\n",
    "(-3, 1)\n",
    "```\n",
    "\n"
   ],
   "metadata": {
    "id": "AEllPjjxgQqd"
   }
  },
  {
   "cell_type": "code",
   "source": [
    "def root_finder(a, b, c):\n",
    "    \n",
    "    #YOUR CODE HERE\n",
    "    \n",
    "    return ans"
   ],
   "outputs": [],
   "execution_count": null,
   "metadata": {
    "id": "Xmpurd47AEJc"
   }
  },
  {
   "cell_type": "markdown",
   "source": [
    "Great! now check your work :)"
   ],
   "metadata": {
    "id": "JnRsj_YLVDM8"
   }
  },
  {
   "cell_type": "code",
   "source": [
    "class DigitalFuturesUnitTest(unittest.TestCase):\n",
    "    \n",
    "    def test_1_pass(self):\n",
    "        self.assertIn(root_finder(1, 2, -3), [(-3.0, 1.0), (1.0, -3.0)])\n",
    "        \n",
    "    def test_2_pass(self):\n",
    "        self.assertIn(root_finder(4, 6, -8), [(0.85, -2.35), (-2.35, 0.85)])\n",
    "        \n",
    "    def test_3_pass(self):\n",
    "        self.assertIn(root_finder(-7, 7, 9), [(-0.74, 1.74), ( 1.74, -0.74)])\n",
    "\n",
    "    def test_4_pass(self):\n",
    "        with self.assertRaises(TypeError):\n",
    "            root_finder(-7, 7, '9')\n",
    "\n",
    "    def test_5_pass(self):\n",
    "        self.assertIn(root_finder(-234, -2345, -435), [(-9.83, -0.19), (-0.19, -9.83)])\n"
   ],
   "outputs": [],
   "execution_count": null,
   "metadata": {
    "id": "qfb6sBG0AEHb"
   }
  },
  {
   "cell_type": "code",
   "source": [
    "if __name__ == '__main__':\n",
    "    unittest.main(argv=[''], verbosity = 2, exit=False)"
   ],
   "outputs": [],
   "execution_count": null,
   "metadata": {
    "colab": {
     "base_uri": "https://localhost:8080/"
    },
    "id": "xphP9rs-AD5r",
    "outputId": "ce3530b7-53ea-40bb-a764-f7b8b3d7e219"
   }
  },
  {
   "cell_type": "markdown",
   "source": [
    "## Task 2\n",
    "\n",
    "Write a function that will take an integer value and return:\n",
    "\n",
    "*   **True** If the number is even\n",
    "*   **False** If the number is odd\n",
    "*   **\"not an int\"** if the input value isn't an integer\n",
    "\n",
    "\n",
    "---\n",
    "\n",
    "### Example\n",
    "```\n",
    ">>> is_even(2)\n",
    "True\n",
    "\n",
    ">>> is_even(9.2)\n",
    "\"not an int\"\n",
    "```"
   ],
   "metadata": {
    "id": "2ovO7p5KiRJz"
   }
  },
  {
   "cell_type": "code",
   "source": [
    "def is_even(number):\n",
    "    \n",
    "    #YOUR CODE HERE\n",
    "    \n",
    "    return ans"
   ],
   "outputs": [],
   "execution_count": null,
   "metadata": {
    "id": "27ZQFOq-AJhg"
   }
  },
  {
   "cell_type": "markdown",
   "source": [
    "Great! now check your work :)"
   ],
   "metadata": {
    "id": "qZf27k_AU4Ti"
   }
  },
  {
   "cell_type": "code",
   "source": [
    "class DigitalFuturesUnitTest(unittest.TestCase):\n",
    "    \n",
    "    def test_1_pass(self):\n",
    "        self.assertEqual(is_even(6), True)\n",
    "        \n",
    "    def test_2_pass(self):\n",
    "        self.assertEqual(is_even(3), False)\n",
    "        \n",
    "    def test_3_pass(self):\n",
    "        self.assertEqual(is_even(4.4), \"not an int\")\n",
    "\n",
    "    def test_4_pass(self):\n",
    "        self.assertEqual(is_even('4'), \"not an int\")"
   ],
   "outputs": [],
   "execution_count": null,
   "metadata": {
    "id": "7_9KYGGCAJfm"
   }
  },
  {
   "cell_type": "code",
   "source": [
    "if __name__ == '__main__':\n",
    "    unittest.main(argv=[''], verbosity = 2, exit=False)"
   ],
   "outputs": [],
   "execution_count": null,
   "metadata": {
    "colab": {
     "base_uri": "https://localhost:8080/"
    },
    "id": "QvF93iASAJRt",
    "outputId": "6c36641f-645e-45c0-afbb-774b0a682534"
   }
  },
  {
   "cell_type": "markdown",
   "source": [
    "# Relational Operators\n",
    "\n",
    "A key tool in a programmers inventory is Relational Operators. A strong understanding of these operators and their outputs can make our code more efficient and understandable. The main operators to be aware of are:\n",
    "\n",
    "\n",
    "1.   **==** -- **Equivelancy Operator**\n",
    "2.   **!=** -- **Not Equivalent**\n",
    "4.   **>** -- **Greater Than**\n",
    "5.   **<** -- **Less Than**\n",
    "6.   **>=** -- **Greater Than or Equal To**\n",
    "7.   **<=** -- **Less Than or Equal To**\n",
    "\n",
    "The above behaves as expected and return a Boolean value.\n",
    "\n",
    "## Task\n",
    "\n",
    "For this task, we are a video streaming service provider that offers our customers four exceptional packages! These from least to most expensive are:\n",
    "\n",
    "\n",
    "*   **The Minimalist Plan**\n",
    "*   **The Basic Plan**\n",
    "*   **The Premium Plan**\n",
    "*   **The Sports+ Plan**\n",
    "\n",
    "We want you to write a function that will follow our strict criteria to recommend to users which plan they should use. The function will take in users weekly watch time, active unfinished shows, and their favourite tv genre.\n",
    "\n",
    "If a customer's favourite genre is **sports** they should always be recommended the **'sports+'** plan. Similarly, if their weekly watch time and active shows are **below 20 hours** and **5 shows** then the **'minimalist'** plan should be recommended, and if only one of the two conditions is true then the **'basic'** plan should. If they don't fit into this category then they should get the **'premium'** plan. \n",
    "\n",
    "The function arguments are:\n",
    "\n",
    "\n",
    "1.   **Weekly Watch Time**\n",
    "2.   **Active Unfinished Shows**\n",
    "3.   **Favorite TV Genre**\n",
    "\n",
    "and should return the strings **'minimalist'**, **'basic'**, **'premium'**, or **'sports+'**\n",
    "\n",
    "---\n",
    "\n",
    "### Example\n",
    "```\n",
    ">>> tv_plan_picker(25, 3, 'sports')\n",
    "'sports+'\n",
    "```"
   ],
   "metadata": {
    "id": "dnfWIkd0mzs6"
   }
  },
  {
   "cell_type": "code",
   "source": [
    "def tv_plan_picker(watch_time, active_shows, fav_genre):\n",
    "    \n",
    "    #YOUR CODE HERE\n",
    "    \n",
    "    return ans"
   ],
   "outputs": [],
   "execution_count": null,
   "metadata": {
    "id": "fGKEs_t9ZnWP"
   }
  },
  {
   "cell_type": "markdown",
   "source": [
    "Great! now check your work :)"
   ],
   "metadata": {
    "id": "BtWcrogyVSQ_"
   }
  },
  {
   "cell_type": "code",
   "source": [
    "class DigitalFuturesUnitTest(unittest.TestCase):\n",
    "    \n",
    "    def test_1_pass(self):\n",
    "        self.assertEqual(tv_plan_picker(6, 3, 'sports').lower(), 'sports+')\n",
    "        \n",
    "    def test_2_pass(self):\n",
    "        self.assertEqual(tv_plan_picker(10, 5, 'Drama').lower(), 'basic')\n",
    "        \n",
    "    def test_3_pass(self):\n",
    "        self.assertEqual(tv_plan_picker(14, 5, 'Documentary').lower(), 'basic')\n",
    "\n",
    "    def test_4_pass(self):\n",
    "        self.assertEqual(tv_plan_picker(23.5, 6, 'Crime').lower(), 'premium')"
   ],
   "outputs": [],
   "execution_count": null,
   "metadata": {
    "id": "INjoWh0_xdDM"
   }
  },
  {
   "cell_type": "code",
   "source": [
    "if __name__ == '__main__':\n",
    "    unittest.main(argv=[''], verbosity = 2, exit=False)"
   ],
   "outputs": [],
   "execution_count": null,
   "metadata": {
    "colab": {
     "base_uri": "https://localhost:8080/"
    },
    "id": "tFrgi7uFAW_U",
    "outputId": "c7aa4263-921f-4234-c38e-1f0aaacea9fb"
   }
  },
  {
   "cell_type": "markdown",
   "source": [
    "All Done! Good work!\n",
    "Some of these can be a bit tricky so feel free to ask if you're stuck or a bit confused :)"
   ],
   "metadata": {
    "id": "dA4hMPkIVTjR"
   }
  }
 ],
 "metadata": {
  "colab": {
   "collapsed_sections": [],
   "name": "00_Operators.ipynb",
   "provenance": []
  },
  "kernelspec": {
   "display_name": "Python 3",
   "language": "python",
   "name": "python3"
  },
  "language_info": {
   "codemirror_mode": {
    "name": "ipython",
    "version": 3
   },
   "file_extension": ".py",
   "mimetype": "text/x-python",
   "name": "python",
   "nbconvert_exporter": "python",
   "pygments_lexer": "ipython3",
   "version": "3.8.2"
  },
  "nteract": {
   "version": "0.28.0"
  },
  "toc": {
   "toc_position": {},
   "skip_h1_title": false,
   "number_sections": true,
   "title_cell": "Table of Contents",
   "toc_window_display": false,
   "base_numbering": 1,
   "toc_section_display": true,
   "title_sidebar": "Contents",
   "toc_cell": false,
   "nav_menu": {},
   "sideBar": true
  }
 },
 "nbformat": 4,
 "nbformat_minor": 1
}
