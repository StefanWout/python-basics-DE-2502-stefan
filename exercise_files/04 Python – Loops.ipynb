{
 "cells": [
  {
   "cell_type": "markdown",
   "source": [
    "<p style=\"text-align:center;\">\n",
    "<img src=\"https://github.com/digital-futures-academy/DataScienceMasterResources/blob/main/Resources/datascience-notebook-header.png?raw=true\"\n",
    "     alt=\"DigitalFuturesLogo\"\n",
    "     style=\"float: center; margin-right: 10px;\" />\n",
    "</p>\n",
    "\n",
    "# Digital Futures Python Challenges\n",
    "### Data Science Python Fundamentals\n",
    "\n",
    "- Each of these challenges will help you practice and apply your Python Knowledge.     \n",
    "- Section 1: Explains the Challenge. Write your function in this section.\n",
    "- Section 2: Creates Unit-Tests to check code. Just run this section.\n",
    "- Section 3: Runs the Unit-Tests to check the code. Just run this section.\n"
   ],
   "metadata": {}
  },
  {
   "cell_type": "markdown",
   "source": [
    "# 1: For Loops - Basics\n",
    "\n",
    " - Your function will take in a list and return the largest number in that list and its index position\n",
    " \n",
    " - Where the list has 2 largest numbers, it should return the first instance of this number\n",
    " - Example: [1,2,6,3,6] this should return 6,2 as the largest number is 6 in index position 2\n",
    " - Your function should be able to handle potential type issues - Example: \"2\" should be taken as 2\n",
    " - Should be able to handle floats\n",
    " - If list is empty it should return - \"Enter a populated list\"\n",
    " - The test cases will only use numbers and their string equivalents\n",
    " "
   ],
   "metadata": {}
  },
  {
   "cell_type": "code",
   "source": [
    "#Def your Code here\n",
    "#You should not rename the function\n",
    "def myLoopFuncFor(numbers):\n",
    "    "
   ],
   "outputs": [],
   "execution_count": null,
   "metadata": {}
  },
  {
   "cell_type": "markdown",
   "source": [
    "# 1.1: For Loops - Continue\n",
    "\n",
    " - Your function will take in a word and will return a vowel-free and capitalised version of the word\n",
    " - Example: Joshua --> JSH\n",
    " - Should not include spaces\n",
    " - Example: James May --> JMSMY\n",
    " \n",
    " - This exercise should make use of the continue keyword"
   ],
   "metadata": {}
  },
  {
   "cell_type": "code",
   "source": [
    "#Def your Code here\n",
    "#You should not rename the function\n",
    "def myLoopFuncContinue(word):\n",
    "    "
   ],
   "outputs": [],
   "execution_count": null,
   "metadata": {}
  },
  {
   "cell_type": "markdown",
   "source": [
    "# 1.2: For Loops - Break\n",
    "\n",
    " - Your task is to create a loop that will go through a specified range of numbers and return every multiple of 3 - 0 is not included\n",
    " - However if your loop encounters a mulitple of 28 it should immeadiately stop the loop and return any numbers previously captured"
   ],
   "metadata": {}
  },
  {
   "cell_type": "code",
   "source": [
    "#Def your Code here\n",
    "#You should not rename the function\n",
    "def myLoopFuncBreak(start,end):\n",
    "    "
   ],
   "outputs": [],
   "execution_count": null,
   "metadata": {}
  },
  {
   "cell_type": "markdown",
   "source": [
    "# 1.3: For Loops - Nested loops\n",
    "\n",
    " - Your function will take a list and a target number\n",
    " - It should find the 2 numbers witin the list that when added together equal the target number\n",
    " - Example: [1,2,6,3,11] and 17 ---> 6,11\n",
    " \n",
    " - Array will always be minimum of 2 numbers\n",
    " - Will always have a solution"
   ],
   "metadata": {}
  },
  {
   "cell_type": "code",
   "source": [
    "#Def your Code here\n",
    "#You should not rename the function\n",
    "def myLoopFuncNested(numbers,target):\n",
    "    "
   ],
   "outputs": [],
   "execution_count": null,
   "metadata": {}
  },
  {
   "cell_type": "markdown",
   "source": [
    "# 1.4: While Loops \n",
    "\n",
    " - Your task is to write a program which reads the number of blocks the builders have, and outputs the height of the pyramid that can be built using these blocks.\n",
    " - The pyramid is stacked according to one simple principle: each lower layer contains one block more than the layer above\n",
    " - Note the returned height should only include completed layers"
   ],
   "metadata": {}
  },
  {
   "cell_type": "code",
   "source": [
    "#Def your Code here\n",
    "#You should not rename the function\n",
    "def myLoopFuncWhile(blocks):\n",
    "    "
   ],
   "outputs": [],
   "execution_count": null,
   "metadata": {}
  },
  {
   "cell_type": "markdown",
   "source": [
    "# 2: Test Definition\n",
    "#### Just run this section - no ammendments necessary\n",
    "- Here we define the tests. \n"
   ],
   "metadata": {}
  },
  {
   "cell_type": "code",
   "source": [
    "import unittest\n",
    "class DigitalFuturesUnitTest(unittest.TestCase):\n",
    "    \n",
    "    def test_1_pass(self):\n",
    "        testCalc = myLoopFuncFor([1,2,3,65,3,4])\n",
    "        self.assertEqual(testCalc, (65,3))\n",
    "        \n",
    "    def test_2_pass(self):\n",
    "        testCalc = myLoopFuncFor(['54','87.5',65,87.5])\n",
    "        self.assertEqual(testCalc, (87.5,1))\n",
    "        \n",
    "    def test_3_pass(self):\n",
    "        testCalc = myLoopFuncFor([])\n",
    "        self.assertEqual(testCalc, 'Enter a populated list')\n",
    "        \n",
    "    def test_4_pass(self):\n",
    "        testCalc = myLoopFuncContinue('Joshua')\n",
    "        self.assertEqual(testCalc, 'JSH')\n",
    "        \n",
    "    def test_5_pass(self):\n",
    "        testCalc = myLoopFuncContinue('James May')\n",
    "        self.assertEqual(testCalc, 'JMSMY')\n",
    "        \n",
    "    def test_6_pass(self):\n",
    "        testCalc = myLoopFuncContinue('      Cheese     ')\n",
    "        self.assertEqual(testCalc, 'CHS')\n",
    "    \n",
    "    def test_7_pass(self):\n",
    "        testCalc = myLoopFuncBreak(1,10)\n",
    "        self.assertEqual(testCalc, [3, 6, 9])\n",
    "    \n",
    "    def test_8_pass(self):\n",
    "        testCalc = myLoopFuncBreak(1,33)\n",
    "        self.assertEqual(testCalc, [3, 6, 9, 12, 15, 18, 21, 24, 27])\n",
    "        \n",
    "    def test_9_pass(self):\n",
    "        testCalc = myLoopFuncBreak(0,103)\n",
    "        self.assertEqual(testCalc, [3, 6, 9, 12, 15, 18, 21, 24, 27])\n",
    "    \n",
    "    def test_10_pass(self):\n",
    "        testCalc = myLoopFuncNested([1,2,6,11,24,2],35)\n",
    "        self.assertIn(testCalc, [(11,24),(24,11)])\n",
    "        \n",
    "    def test_11_pass(self):\n",
    "        testCalc = myLoopFuncNested([0,200,15,11,76,2],200)\n",
    "        self.assertIn(testCalc, [(0,200),(200,0)])\n",
    "        \n",
    "    def test_12_pass(self):\n",
    "        testCalc = myLoopFuncWhile(6)\n",
    "        self.assertEqual(testCalc, 3)\n",
    "        \n",
    "    def test_13_pass(self):\n",
    "        testCalc = myLoopFuncWhile(20)\n",
    "        self.assertEqual(testCalc, 5)\n",
    "        \n",
    "    def test_11_pass(self):\n",
    "        testCalc = myLoopFuncWhile(1000)\n",
    "        self.assertEqual(testCalc, 44)\n",
    "        \n",
    "    def test_11_pass(self):\n",
    "        testCalc = myLoopFuncWhile(2)\n",
    "        self.assertEqual(testCalc, 1)\n",
    "        "
   ],
   "outputs": [],
   "execution_count": null,
   "metadata": {}
  },
  {
   "cell_type": "markdown",
   "source": [
    "# 3: Run The Tests\n",
    "#### Just run this section - no ammendments necessary\n",
    "- This will test your code against the Digital Futures Unit Tests. \n",
    "- If all tests are okay, it will say 'OK'\n",
    "- If any test fails, it will explain which test it was and why it failed"
   ],
   "metadata": {}
  },
  {
   "cell_type": "code",
   "source": [
    "if __name__ == '__main__':\n",
    "    unittest.main(argv=['first-arg-is-ignored'], \n",
    "                  verbosity = 2, exit=False)"
   ],
   "outputs": [],
   "execution_count": null,
   "metadata": {}
  },
  {
   "cell_type": "code",
   "source": [],
   "outputs": [],
   "execution_count": null,
   "metadata": {}
  }
 ],
 "metadata": {
  "kernelspec": {
   "display_name": "Python 3",
   "language": "python",
   "name": "python3"
  },
  "language_info": {
   "codemirror_mode": {
    "name": "ipython",
    "version": 3
   },
   "file_extension": ".py",
   "mimetype": "text/x-python",
   "name": "python",
   "nbconvert_exporter": "python",
   "pygments_lexer": "ipython3",
   "version": "3.8.5"
  },
  "nteract": {
   "version": "0.28.0"
  }
 },
 "nbformat": 4,
 "nbformat_minor": 4
}
